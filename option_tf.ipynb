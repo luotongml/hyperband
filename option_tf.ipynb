{
 "cells": [
  {
   "cell_type": "code",
   "execution_count": 1,
   "metadata": {
    "collapsed": true
   },
   "outputs": [],
   "source": [
    "import numpy as np\n",
    "import pandas as pd\n",
    "import tensorflow as tf"
   ]
  },
  {
   "cell_type": "code",
   "execution_count": 50,
   "metadata": {},
   "outputs": [
    {
     "name": "stdout",
     "output_type": "stream",
     "text": [
      "loading data data/bigdf.pkl ....\n"
     ]
    },
    {
     "name": "stderr",
     "output_type": "stream",
     "text": [
      "C:\\Users\\luo\\PycharmProjects\\hyperband-option\\data_processing.py:38: SettingWithCopyWarning: \nA value is trying to be set on a copy of a slice from a DataFrame.\nTry using .loc[row_indexer,col_indexer] = value instead\n\nSee the caveats in the documentation: http://pandas.pydata.org/pandas-docs/stable/indexing.html#indexing-view-versus-copy\n  df['moneyness'] = df['mid']/df['exeprice']\n"
     ]
    }
   ],
   "source": [
    "import data_processing\n",
    "path = \"data/bigdf.pkl\"\n",
    "df = data_processing.load_options(path)\n",
    "for data in  data_processing.train_test_split(df=df, window=1):\n",
    "    x_train = data[\"x_train\"]\n",
    "    y_train = data[\"y_train\"]\n",
    "    x_test = data[\"x_test\"]\n",
    "    y_test = data[\"y_test\"]"
   ]
  },
  {
   "cell_type": "code",
   "execution_count": 51,
   "metadata": {
    "collapsed": true
   },
   "outputs": [
    {
     "data": {
      "text/plain": [
       "count    12877.000000\nmean         0.039195\nstd          0.043387\nmin          0.000385\n25%          0.006326\n50%          0.023894\n75%          0.057595\nmax          0.202167\nName: moneyness, dtype: float64"
      ]
     },
     "execution_count": 51,
     "metadata": {},
     "output_type": "execute_result"
    }
   ],
   "source": [
    "x_train.head()\n",
    "x_train['moneyness'].describe()"
   ]
  },
  {
   "cell_type": "code",
   "execution_count": 52,
   "metadata": {},
   "outputs": [
    {
     "name": "stderr",
     "output_type": "stream",
     "text": [
      "C:\\Users\\luo\\Anaconda3\\lib\\site-packages\\ipykernel\\__main__.py:1: FutureWarning: reshape is deprecated and will raise in a subsequent release. Please use .values.reshape(...) instead\n  if __name__ == '__main__':\nC:\\Users\\luo\\Anaconda3\\lib\\site-packages\\ipykernel\\__main__.py:2: FutureWarning: reshape is deprecated and will raise in a subsequent release. Please use .values.reshape(...) instead\n  from ipykernel import kernelapp as app\nC:\\Users\\luo\\Anaconda3\\lib\\site-packages\\ipykernel\\__main__.py:3: FutureWarning: reshape is deprecated and will raise in a subsequent release. Please use .values.reshape(...) instead\n  app.launch_new_instance()\nC:\\Users\\luo\\Anaconda3\\lib\\site-packages\\ipykernel\\__main__.py:4: FutureWarning: reshape is deprecated and will raise in a subsequent release. Please use .values.reshape(...) instead\n"
     ]
    }
   ],
   "source": [
    "m_values = x_train['moneyness'].reshape((-1,1)).astype(np.float32)\n",
    "t_values = x_train['years_to_exe'].reshape((-1,1)).astype(np.float32)\n",
    "s_values = x_train['etf_mid'].reshape((-1,1)).astype(np.float32)\n",
    "c_values = y_train.reshape((-1,1)).astype(np.float32)"
   ]
  },
  {
   "cell_type": "code",
   "execution_count": 53,
   "metadata": {},
   "outputs": [
    {
     "name": "stderr",
     "output_type": "stream",
     "text": [
      "C:\\Users\\luo\\Anaconda3\\lib\\site-packages\\ipykernel\\__main__.py:1: FutureWarning: reshape is deprecated and will raise in a subsequent release. Please use .values.reshape(...) instead\n  if __name__ == '__main__':\nC:\\Users\\luo\\Anaconda3\\lib\\site-packages\\ipykernel\\__main__.py:2: FutureWarning: reshape is deprecated and will raise in a subsequent release. Please use .values.reshape(...) instead\n  from ipykernel import kernelapp as app\nC:\\Users\\luo\\Anaconda3\\lib\\site-packages\\ipykernel\\__main__.py:3: FutureWarning: reshape is deprecated and will raise in a subsequent release. Please use .values.reshape(...) instead\n  app.launch_new_instance()\nC:\\Users\\luo\\Anaconda3\\lib\\site-packages\\ipykernel\\__main__.py:4: FutureWarning: reshape is deprecated and will raise in a subsequent release. Please use .values.reshape(...) instead\n"
     ]
    }
   ],
   "source": [
    "m_test_values = x_test['moneyness'].reshape((-1,1)).astype(np.float32)\n",
    "t_test_values = x_test['years_to_exe'].reshape((-1,1)).astype(np.float32)\n",
    "s_test_values = x_test['etf_mid'].reshape((-1,1)).astype(np.float32)\n",
    "c_test_values = y_test.reshape((-1,1)).astype(np.float32)"
   ]
  },
  {
   "cell_type": "code",
   "execution_count": 54,
   "metadata": {},
   "outputs": [],
   "source": [
    ""
   ]
  },
  {
   "cell_type": "code",
   "execution_count": 72,
   "metadata": {},
   "outputs": [],
   "source": [
    "num_features = 3\n",
    "num_neurons = 5 #J\n",
    "num_gates = 9 #I could be changed\n",
    "num_gate_neurons = 5 #K\n",
    "r = 0.06\n",
    "batch_size = 16\n",
    "num_epochs = 1000\n",
    "# np.exp(r*t)*st*c_predict to be true value"
   ]
  },
  {
   "cell_type": "code",
   "execution_count": 55,
   "metadata": {},
   "outputs": [],
   "source": [
    "m = tf.placeholder(tf.float32, [None,1])\n",
    "t = tf.placeholder(tf.float32, [None,1])\n",
    "c = tf.placeholder(tf.float32, [None,1])\n",
    "st = tf.placeholder(tf.float32, [None,1])\n",
    "w =  tf.Variable(tf.truncated_normal([1, num_neurons]), name=\"weights\")\n",
    "wm = tf.Variable(tf.truncated_normal([1, num_neurons]), name=\"weights_m\")\n",
    "bm = tf.Variable(tf.truncated_normal([num_neurons]), name=\"bias_m\")\n",
    "wt = tf.Variable(tf.truncated_normal([1, num_neurons]), name=\"weights_t\")\n",
    "bt = tf.Variable(tf.truncated_normal([num_neurons]), name=\"bias_t\")\n",
    "global_step = tf.Variable(0, dtype=tf.int32, trainable=False, name='global_step')"
   ]
  },
  {
   "cell_type": "code",
   "execution_count": 56,
   "metadata": {},
   "outputs": [],
   "source": [
    "sigma_m = tf.nn.softplus(-1.0*tf.matmul(m, tf.exp(wm)) + bm, name=\"sigma_m\")\n",
    "sigma_t = tf.nn.sigmoid(tf.matmul(t, tf.exp(wt)) + bt, name=\"sigma_t\")"
   ]
  },
  {
   "cell_type": "code",
   "execution_count": 57,
   "metadata": {},
   "outputs": [],
   "source": [
    "c_predict = tf.reduce_sum(sigma_m*sigma_t*tf.exp(w), name=\"c_predict\")\n",
    "c_predict_real = tf.exp(-1.0*r*t)*st*c_predict\n",
    "#loss = tf.losses.mean_squared_error(c, c_predict*np.exp(-1.0*r*t)*st)\n",
    "loss = tf.losses.mean_squared_error(c_predict_real, c)\n",
    "optimizer = tf.train.AdamOptimizer(0.5).minimize(loss, name=\"optimizer\",global_step=global_step)"
   ]
  },
  {
   "cell_type": "code",
   "execution_count": 62,
   "metadata": {},
   "outputs": [],
   "source": [
    "with tf.name_scope(\"summaries\"):\n",
    "    tf.summary.scalar(\"loss\", loss)\n",
    "    tf.summary.histogram(\"histogram_loss\", loss)\n",
    "    summary_op = tf.summary.merge_all()"
   ]
  },
  {
   "cell_type": "code",
   "execution_count": 73,
   "metadata": {
    "collapsed": true
   },
   "outputs": [
    {
     "name": "stdout",
     "output_type": "stream",
     "text": [
      "INFO:tensorflow:Restoring parameters from checkpoints\\model-9001\n"
     ]
    },
    {
     "name": "stdout",
     "output_type": "stream",
     "text": [
      "Loss at step 0: 2125522944.0\nLoss at test 0: [2.154672e+08]\n"
     ]
    },
    {
     "name": "stdout",
     "output_type": "stream",
     "text": [
      "Saved model at step <tf.Variable 'global_step_1:0' shape=() dtype=int32_ref> with test loss: [2.154672e+08]\n"
     ]
    }
   ],
   "source": [
    "import os\n",
    "init = tf.global_variables_initializer()\n",
    "with tf.Session() as sess:\n",
    "    writer = tf.summary.FileWriter(\"log/tf\", sess.graph)\n",
    "    saver = tf.train.Saver()\n",
    "    ckpt = tf.train.get_checkpoint_state(os.path.dirname('checkpoints/checkpoint'))\n",
    "    # if that checkpoint exists, restore from checkpoint\n",
    "    if ckpt and ckpt.model_checkpoint_path:\n",
    "        saver.restore(sess, ckpt.model_checkpoint_path)\n",
    "    sess.run(init)\n",
    "    for step in range(num_epochs):\n",
    "        _, loss_value, summary = sess.run([optimizer, loss, summary_op], {m:m_values, t:t_values, st:s_values, c:c_values})\n",
    "        writer.add_summary(summary, global_step=step)\n",
    "        if(step % 1000 == 0):\n",
    "            print('Loss at step {}: {}'.format(step, loss_value))\n",
    "            loss_test = sess.run([loss], {m:m_test_values, t:t_test_values, st:s_test_values, c:c_test_values})\n",
    "            print('Loss at test {}: {}'.format(step, loss_test))    \n",
    "            saver.save(sess, 'checkpoints/model', global_step)\n",
    "            print('Saved model at step {} with test loss: {}'.format(global_step, loss_test))\n",
    "    c_predict_values = sess.run([c_predict_real], {m:m_test_values, t:t_test_values, st:s_test_values, c:c_test_values})\n",
    "    writer.close()"
   ]
  },
  {
   "cell_type": "code",
   "execution_count": 74,
   "metadata": {},
   "outputs": [
    {
     "name": "stdout",
     "output_type": "stream",
     "text": [
      "8.00988\n[2.154672e+08]\n"
     ]
    }
   ],
   "source": [
    "print(loss_value)\n",
    "print(loss_test)"
   ]
  },
  {
   "cell_type": "code",
   "execution_count": 67,
   "metadata": {},
   "outputs": [
    {
     "data": {
      "text/plain": [
       "(13885, 1)"
      ]
     },
     "execution_count": 67,
     "metadata": {},
     "output_type": "execute_result"
    }
   ],
   "source": [
    "c_predict_values[0].shape\n",
    "c_test_values.shape"
   ]
  },
  {
   "cell_type": "code",
   "execution_count": 68,
   "metadata": {},
   "outputs": [],
   "source": [
    "c_test_values.shape\n",
    "result = pd.DataFrame(c_test_values, columns=[\"c_values\"])\n",
    "result[\"c_predict_values\"] = c_predict_values[0]"
   ]
  },
  {
   "cell_type": "code",
   "execution_count": 75,
   "metadata": {},
   "outputs": [],
   "source": [
    "result = pd.DataFrame(c_predict_values[0], columns=\"c_predict_values\")\n",
    "result[\"c_value\"] = c_test_values"
   ]
  },
  {
   "cell_type": "code",
   "execution_count": 76,
   "metadata": {},
   "outputs": [],
   "source": [
    ""
   ]
  },
  {
   "cell_type": "code",
   "execution_count": 12,
   "metadata": {},
   "outputs": [],
   "source": [
    "mt_combine = tf.concat([m,t], axis=1)\n",
    "wg = tf.Variable(tf.truncated_normal([2,num_gate_neurons]), name=\"weights_gate\")\n",
    "bg = tf.Variable(tf.truncated_normal([num_gate_neurons]), name = \"bias_gate\")\n",
    "hidden= tf.nn.sigmoid(tf.matmul(mt_combine, wg) +bg)\n",
    "wgo = tf.Variable(tf.truncated_normal([num_gate_neurons, num_gates]), name=\"wg_output\")\n",
    "bgo = tf.Variable(tf.truncated_normal([num_gates]), name = \"bg_output\")\n",
    "logits = tf.matmul(hidden, wgo) + bgo\n",
    "gates = tf.nn.softmax(logits, name=\"gates\")"
   ]
  },
  {
   "cell_type": "markdown",
   "metadata": {},
   "source": [
    ""
   ]
  }
 ],
 "metadata": {
  "kernelspec": {
   "display_name": "Python 2",
   "language": "python",
   "name": "python2"
  },
  "language_info": {
   "codemirror_mode": {
    "name": "ipython",
    "version": 2.0
   },
   "file_extension": ".py",
   "mimetype": "text/x-python",
   "name": "python",
   "nbconvert_exporter": "python",
   "pygments_lexer": "ipython2",
   "version": "2.7.6"
  }
 },
 "nbformat": 4,
 "nbformat_minor": 0
}