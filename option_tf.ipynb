{
 "cells": [
  {
   "cell_type": "code",
   "execution_count": 1,
   "metadata": {
    "collapsed": true
   },
   "outputs": [],
   "source": [
    "import numpy as np\n",
    "import pandas as pd\n",
    "import tensorflow as tf"
   ]
  },
  {
   "cell_type": "code",
   "execution_count": 2,
   "metadata": {},
   "outputs": [],
   "source": [
    "num_features = 3\n",
    "num_neurons = 5\n",
    "r = 0.06\n",
    "# np.exp(r*t)*st*c_predict to be true value"
   ]
  },
  {
   "cell_type": "code",
   "execution_count": 10,
   "metadata": {},
   "outputs": [],
   "source": [
    "m = tf.placeholder(tf.float32, [None, 1])\n",
    "t = tf.placeholder(tf.float32, [None, 1])\n",
    "w =  tf.Variable(tf.truncated_normal([1, num_neurons]), name=\"weights\")\n",
    "wm = tf.Variable(tf.truncated_normal([1, num_neurons]), name=\"weights_m\")\n",
    "bm = tf.Variable(tf.truncated_normal([1, num_neurons]), name=\"bias_m\")\n",
    "wt = tf.Variable(tf.truncated_normal([1, num_neurons]), name=\"weights_t\")\n",
    "bt = tf.Variable(tf.truncated_normal([1, num_neurons]), name=\"bias_t\")"
   ]
  },
  {
   "cell_type": "code",
   "execution_count": 7,
   "metadata": {},
   "outputs": [],
   "source": [
    "sigma_m = tf.nn.softplus(tf.subtract(bm, tf.matmul(m, tf.exp(wm))), name=\"sigma_m\")\n",
    "sigma_t = tf.nn.sigmoid(tf.nn.bias_add(tf.matmul(t, tf.exp(wt)), bt), name=\"sigma_t\")"
   ]
  },
  {
   "cell_type": "code",
   "execution_count": 11,
   "metadata": {},
   "outputs": [],
   "source": [
    "c_predict = tf.reduce_sum(tf.multiply(tf.multiply(sigma_m, sigma_t), tf.exp(w)), name=\"c_predict\")"
   ]
  },
  {
   "cell_type": "code",
   "execution_count": null,
   "metadata": {},
   "outputs": [],
   "source": [
    ""
   ]
  }
 ],
 "metadata": {
  "kernelspec": {
   "display_name": "Python 2",
   "language": "python",
   "name": "python2"
  },
  "language_info": {
   "codemirror_mode": {
    "name": "ipython",
    "version": 2.0
   },
   "file_extension": ".py",
   "mimetype": "text/x-python",
   "name": "python",
   "nbconvert_exporter": "python",
   "pygments_lexer": "ipython2",
   "version": "2.7.6"
  }
 },
 "nbformat": 4,
 "nbformat_minor": 0
}