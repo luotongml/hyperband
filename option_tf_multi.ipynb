{
 "cells": [
  {
   "cell_type": "code",
   "execution_count": 1,
   "metadata": {
    "collapsed": true
   },
   "outputs": [],
   "source": [
    "import numpy as np\n",
    "import pandas as pd\n",
    "import tensorflow as tf"
   ]
  },
  {
   "cell_type": "code",
   "execution_count": 2,
   "metadata": {},
   "outputs": [
    {
     "name": "stdout",
     "output_type": "stream",
     "text": [
      "loading data data/bigdf.pkl ....\n"
     ]
    },
    {
     "name": "stderr",
     "output_type": "stream",
     "text": [
      "C:\\Users\\luo\\PycharmProjects\\hyperband-option\\data_processing.py:38: SettingWithCopyWarning: \nA value is trying to be set on a copy of a slice from a DataFrame.\nTry using .loc[row_indexer,col_indexer] = value instead\n\nSee the caveats in the documentation: http://pandas.pydata.org/pandas-docs/stable/indexing.html#indexing-view-versus-copy\n  df['moneyness'] = df['mid']/df['exeprice']\n"
     ]
    }
   ],
   "source": [
    "import data_processing\n",
    "path = \"data/bigdf.pkl\"\n",
    "df = data_processing.load_options(path)\n",
    "for data in  data_processing.train_test_split(df=df, window=1):\n",
    "    x_train = data[\"x_train\"]\n",
    "    y_train = data[\"y_train\"]\n",
    "    x_test = data[\"x_test\"]\n",
    "    y_test = data[\"y_test\"]"
   ]
  },
  {
   "cell_type": "code",
   "execution_count": 3,
   "metadata": {
    "collapsed": true
   },
   "outputs": [
    {
     "data": {
      "text/plain": [
       "count    12877.000000\nmean         0.039195\nstd          0.043387\nmin          0.000385\n25%          0.006326\n50%          0.023894\n75%          0.057595\nmax          0.202167\nName: moneyness, dtype: float64"
      ]
     },
     "execution_count": 3,
     "metadata": {},
     "output_type": "execute_result"
    }
   ],
   "source": [
    "x_train.head()\n",
    "x_train['moneyness'].describe()"
   ]
  },
  {
   "cell_type": "code",
   "execution_count": 4,
   "metadata": {},
   "outputs": [
    {
     "name": "stderr",
     "output_type": "stream",
     "text": [
      "C:\\Users\\luo\\Anaconda3\\lib\\site-packages\\ipykernel\\__main__.py:1: FutureWarning: reshape is deprecated and will raise in a subsequent release. Please use .values.reshape(...) instead\n  if __name__ == '__main__':\nC:\\Users\\luo\\Anaconda3\\lib\\site-packages\\ipykernel\\__main__.py:2: FutureWarning: reshape is deprecated and will raise in a subsequent release. Please use .values.reshape(...) instead\n  from ipykernel import kernelapp as app\nC:\\Users\\luo\\Anaconda3\\lib\\site-packages\\ipykernel\\__main__.py:3: FutureWarning: reshape is deprecated and will raise in a subsequent release. Please use .values.reshape(...) instead\n  app.launch_new_instance()\nC:\\Users\\luo\\Anaconda3\\lib\\site-packages\\ipykernel\\__main__.py:4: FutureWarning: reshape is deprecated and will raise in a subsequent release. Please use .values.reshape(...) instead\n"
     ]
    }
   ],
   "source": [
    "m_values = x_train['moneyness'].reshape((-1,1)).astype(np.float32)\n",
    "t_values = x_train['years_to_exe'].reshape((-1,1)).astype(np.float32)\n",
    "s_values = x_train['etf_mid'].reshape((-1,1)).astype(np.float32)\n",
    "c_values = y_train.reshape((-1,1)).astype(np.float32)"
   ]
  },
  {
   "cell_type": "code",
   "execution_count": 5,
   "metadata": {},
   "outputs": [
    {
     "name": "stderr",
     "output_type": "stream",
     "text": [
      "C:\\Users\\luo\\Anaconda3\\lib\\site-packages\\ipykernel\\__main__.py:1: FutureWarning: reshape is deprecated and will raise in a subsequent release. Please use .values.reshape(...) instead\n  if __name__ == '__main__':\nC:\\Users\\luo\\Anaconda3\\lib\\site-packages\\ipykernel\\__main__.py:2: FutureWarning: reshape is deprecated and will raise in a subsequent release. Please use .values.reshape(...) instead\n  from ipykernel import kernelapp as app\nC:\\Users\\luo\\Anaconda3\\lib\\site-packages\\ipykernel\\__main__.py:3: FutureWarning: reshape is deprecated and will raise in a subsequent release. Please use .values.reshape(...) instead\n  app.launch_new_instance()\nC:\\Users\\luo\\Anaconda3\\lib\\site-packages\\ipykernel\\__main__.py:4: FutureWarning: reshape is deprecated and will raise in a subsequent release. Please use .values.reshape(...) instead\n"
     ]
    }
   ],
   "source": [
    "m_test_values = x_test['moneyness'].reshape((-1,1)).astype(np.float32)\n",
    "t_test_values = x_test['years_to_exe'].reshape((-1,1)).astype(np.float32)\n",
    "s_test_values = x_test['etf_mid'].reshape((-1,1)).astype(np.float32)\n",
    "c_test_values = y_test.reshape((-1,1)).astype(np.float32)"
   ]
  },
  {
   "cell_type": "code",
   "execution_count": 6,
   "metadata": {},
   "outputs": [],
   "source": [
    ""
   ]
  },
  {
   "cell_type": "code",
   "execution_count": 13,
   "metadata": {},
   "outputs": [],
   "source": [
    "num_features = 3\n",
    "num_neurons = 5 #J\n",
    "num_gates = 9 #I could be changed\n",
    "num_gate_neurons = 5 #K\n",
    "r = 0.06\n",
    "batch_size = 16\n",
    "num_epochs = 20000\n",
    "# np.exp(r*t)*st*c_predict to be true value"
   ]
  },
  {
   "cell_type": "code",
   "execution_count": 7,
   "metadata": {},
   "outputs": [],
   "source": [
    "with tf.name_scope(\"placehoders\"):\n",
    "    m = tf.placeholder(tf.float32, [None,1], name='m')\n",
    "    t = tf.placeholder(tf.float32, [None,1], name='t')\n",
    "    c = tf.placeholder(tf.float32, [None,1], name='c')\n",
    "    st = tf.placeholder(tf.float32, [None,1], name='st')"
   ]
  },
  {
   "cell_type": "code",
   "execution_count": null,
   "metadata": {},
   "outputs": [],
   "source": [
    ""
   ]
  },
  {
   "cell_type": "code",
   "execution_count": 8,
   "metadata": {},
   "outputs": [],
   "source": [
    "w =  tf.Variable(tf.truncated_normal([num_gates, num_neurons,1]), name=\"weights\")\n",
    "wm = tf.Variable(tf.truncated_normal([1, num_neurons*num_gates]), name=\"weights_m\")\n",
    "bm = tf.Variable(tf.truncated_normal([num_neurons, num_gates]), name=\"bias_m\")\n",
    "wt = tf.Variable(tf.truncated_normal([1, num_neurons*num_gates]), name=\"weights_t\")\n",
    "bt = tf.Variable(tf.truncated_normal([num_neurons, num_gates]), name=\"bias_t\")\n",
    "global_step = tf.Variable(0, dtype=tf.int32, trainable=False, name='global_step')"
   ]
  },
  {
   "cell_type": "code",
   "execution_count": null,
   "metadata": {},
   "outputs": [],
   "source": [
    "exp_wt_can = tf.matmul(t, tf.exp(wt, name=\"exp_wt_can\"))\n",
    "exp_wt = tf.reshape(exp_wt_can,[-1,num_neurons,num_gates], name=\"exp_wt\")\n",
    "sigma_t = tf.nn.sigmoid(tf.transpose(exp_wt + bt, [2,0,1]),name=\"sigma_t\")\n"
   ]
  },
  {
   "cell_type": "code",
   "execution_count": null,
   "metadata": {},
   "outputs": [],
   "source": [
    "exp_wm_can = tf.matmul(m, tf.exp(wm, name=\"exp_wm_can\"))\n",
    "exp_wm = tf.reshape(exp_wm_can, [-1, num_neurons, num_gates], name=\"exp_wm\")\n",
    "sigma_m = tf.nn.softplus(tf.transpose(-1.0*exp_wm+bm, [2,0,1]), name=\"sigma_m\")"
   ]
  },
  {
   "cell_type": "code",
   "execution_count": 9,
   "metadata": {},
   "outputs": [],
   "source": [
    "wg1 = tf.Variable(tf.truncated_normal([2, num_gate_neurons]), name=\"wg1\")\n",
    "bg1 = tf.Variable(tf.truncated_normal([num_gate_neurons]), name=\"bg1\")\n",
    "wgo = tf.Variable(tf.truncated_normal([num_gate_neurons, num_gates]), name=\"wgo\")\n",
    "bgo = tf.Variable(tf.truncated_normal(num_gates), name=\"bgo\")\n"
   ]
  },
  {
   "cell_type": "code",
   "execution_count": null,
   "metadata": {},
   "outputs": [],
   "source": [
    ""
   ]
  },
  {
   "cell_type": "code",
   "execution_count": 10,
   "metadata": {},
   "outputs": [],
   "source": [
    "c_predict = tf.matmul(tf.multiply(sigma_m,sigma_t, name=\"mt_multi\"),tf.exp(w,name=\"exp_w\"), name=\"c_predict\")\n",
    "c_predict_real = tf.exp(-1.0*r*t)*st*c_predict\n",
    "loss = tf.losses.mean_squared_error(c_predict_real, c)\n",
    "optimizer = tf.train.AdamOptimizer(0.5).minimize(loss, name=\"optimizer\",global_step=global_step)"
   ]
  },
  {
   "cell_type": "code",
   "execution_count": 11,
   "metadata": {},
   "outputs": [],
   "source": [
    "with tf.name_scope(\"summaries\"):\n",
    "    tf.summary.scalar(\"loss\", loss)\n",
    "    tf.summary.histogram(\"histogram_loss\", loss)\n",
    "    summary_op = tf.summary.merge_all()"
   ]
  },
  {
   "cell_type": "code",
   "execution_count": 14,
   "metadata": {
    "collapsed": true
   },
   "outputs": [
    {
     "name": "stdout",
     "output_type": "stream",
     "text": [
      "INFO:tensorflow:Restoring parameters from checkpoints_2\\model-13000\n"
     ]
    },
    {
     "name": "stdout",
     "output_type": "stream",
     "text": [
      "Loss at step 14000: 0.0054331086575984955\nLoss at test 14000: [0.0045263902]\n"
     ]
    },
    {
     "name": "stdout",
     "output_type": "stream",
     "text": [
      "Saved model at step 14000 with test loss: [0.0045263902]\n"
     ]
    },
    {
     "name": "stdout",
     "output_type": "stream",
     "text": [
      "Loss at step 15000: 0.005418142303824425\nLoss at test 15000: [0.0045283441]\n"
     ]
    },
    {
     "name": "stdout",
     "output_type": "stream",
     "text": [
      "Saved model at step 15000 with test loss: [0.0045283441]\n"
     ]
    },
    {
     "name": "stdout",
     "output_type": "stream",
     "text": [
      "Loss at step 16000: 0.006062031257897615\nLoss at test 16000: [0.0049585928]\n"
     ]
    },
    {
     "name": "stdout",
     "output_type": "stream",
     "text": [
      "Saved model at step 16000 with test loss: [0.0049585928]\n"
     ]
    },
    {
     "name": "stdout",
     "output_type": "stream",
     "text": [
      "Loss at step 17000: 0.005419195629656315\nLoss at test 17000: [0.0045277723]\n"
     ]
    },
    {
     "name": "stdout",
     "output_type": "stream",
     "text": [
      "Saved model at step 17000 with test loss: [0.0045277723]\n"
     ]
    },
    {
     "name": "stdout",
     "output_type": "stream",
     "text": [
      "Loss at step 18000: 0.005539742764085531\nLoss at test 18000: [0.0045245891]\n"
     ]
    },
    {
     "name": "stdout",
     "output_type": "stream",
     "text": [
      "Saved model at step 18000 with test loss: [0.0045245891]\n"
     ]
    },
    {
     "name": "stdout",
     "output_type": "stream",
     "text": [
      "Loss at step 19000: 0.0054157087579369545\nLoss at test 19000: [0.0045340289]\n"
     ]
    },
    {
     "name": "stdout",
     "output_type": "stream",
     "text": [
      "Saved model at step 19000 with test loss: [0.0045340289]\n"
     ]
    }
   ],
   "source": [
    "import os\n",
    "init = tf.global_variables_initializer()\n",
    "with tf.Session() as sess:\n",
    "    writer = tf.summary.FileWriter(\"log/tf_2\", sess.graph)\n",
    "    saver = tf.train.Saver(max_to_keep=30)\n",
    "    ckpt = tf.train.get_checkpoint_state(os.path.dirname('checkpoints_2/checkpoint'))\n",
    "    # if that checkpoint exists, restore from checkpoint\n",
    "    if ckpt and ckpt.model_checkpoint_path:\n",
    "        saver.restore(sess, ckpt.model_checkpoint_path)\n",
    "    else:\n",
    "        sess.run(init)\n",
    "    start = global_step.eval()\n",
    "    for step in range(start, num_epochs):\n",
    "        _, loss_value, summary = sess.run([optimizer, loss, summary_op], {m:m_values, t:t_values, st:s_values, c:c_values})\n",
    "        writer.add_summary(summary, global_step=step)\n",
    "        if(step % 1000 == 0):\n",
    "            print('Loss at step {}: {}'.format(step, loss_value))\n",
    "            loss_test = sess.run([loss], {m:m_test_values, t:t_test_values, st:s_test_values, c:c_test_values})\n",
    "            print('Loss at test {}: {}'.format(step, loss_test))    \n",
    "            saver.save(sess, 'checkpoints_2/model', step)\n",
    "            print('Saved model at step {} with test loss: {}'.format(step, loss_test))\n",
    "    c_predict_values = sess.run([c_predict_real], {m:m_test_values, t:t_test_values, st:s_test_values, c:c_test_values})\n",
    "    writer.close()"
   ]
  },
  {
   "cell_type": "code",
   "execution_count": 15,
   "metadata": {},
   "outputs": [
    {
     "data": {
      "text/plain": [
       "[array([[ 0.10666332],\n        [ 0.10691991],\n        [ 0.10679045],\n        ..., \n        [ 0.12004589],\n        [ 0.11993337],\n        [ 0.11993339]], dtype=float32)]"
      ]
     },
     "execution_count": 15,
     "metadata": {},
     "output_type": "execute_result"
    }
   ],
   "source": [
    "c_predict_values"
   ]
  },
  {
   "cell_type": "code",
   "execution_count": 16,
   "metadata": {},
   "outputs": [
    {
     "data": {
      "text/plain": [
       "(13885, 1)"
      ]
     },
     "execution_count": 16,
     "metadata": {},
     "output_type": "execute_result"
    }
   ],
   "source": [
    "c_predict_values[0].shape\n",
    "c_test_values.shape"
   ]
  },
  {
   "cell_type": "code",
   "execution_count": 15,
   "metadata": {},
   "outputs": [],
   "source": [
    "c_test_values.shape\n",
    "result = pd.DataFrame(c_test_values, columns=[\"c_values\"])\n",
    "result[\"c_predict_values\"] = c_predict_values[0]"
   ]
  },
  {
   "cell_type": "code",
   "execution_count": 16,
   "metadata": {},
   "outputs": [],
   "source": [
    "%matplotlib inline\n",
    "import matplotlib.pyplot as plt"
   ]
  },
  {
   "cell_type": "code",
   "execution_count": 17,
   "metadata": {},
   "outputs": [
    {
     "data": {
      "image/png": "[encoded data removed]",
      "text/plain": [
       "<matplotlib.figure.Figure at 0x2849dcd1780>"
      ]
     },
     "metadata": {},
     "output_type": "display_data"
    }
   ],
   "source": [
    "result.describe()\n",
    "(result[\"c_values\"] - result[\"c_predict_values\"]).hist(bins=20)\n",
    "plt.show()"
   ]
  },
  {
   "cell_type": "code",
   "execution_count": 76,
   "metadata": {},
   "outputs": [],
   "source": [
    ""
   ]
  },
  {
   "cell_type": "code",
   "execution_count": 12,
   "metadata": {},
   "outputs": [],
   "source": [
    "mt_combine = tf.concat([m,t], axis=1)\n",
    "wg = tf.Variable(tf.truncated_normal([2,num_gate_neurons]), name=\"weights_gate\")\n",
    "bg = tf.Variable(tf.truncated_normal([num_gate_neurons]), name = \"bias_gate\")\n",
    "hidden= tf.nn.sigmoid(tf.matmul(mt_combine, wg) +bg)\n",
    "wgo = tf.Variable(tf.truncated_normal([num_gate_neurons, num_gates]), name=\"wg_output\")\n",
    "bgo = tf.Variable(tf.truncated_normal([num_gates]), name = \"bg_output\")\n",
    "logits = tf.matmul(hidden, wgo) + bgo\n",
    "gates = tf.nn.softmax(logits, name=\"gates\")"
   ]
  },
  {
   "cell_type": "markdown",
   "metadata": {},
   "source": [
    ""
   ]
  }
 ],
 "metadata": {
  "kernelspec": {
   "display_name": "Python 2",
   "language": "python",
   "name": "python2"
  },
  "language_info": {
   "codemirror_mode": {
    "name": "ipython",
    "version": 2.0
   },
   "file_extension": ".py",
   "mimetype": "text/x-python",
   "name": "python",
   "nbconvert_exporter": "python",
   "pygments_lexer": "ipython2",
   "version": "2.7.6"
  }
 },
 "nbformat": 4,
 "nbformat_minor": 0
}